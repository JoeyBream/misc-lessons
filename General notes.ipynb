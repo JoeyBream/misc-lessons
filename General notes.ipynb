{
 "cells": [
  {
   "cell_type": "markdown",
   "id": "2530c75e-7987-411d-bcfa-2088a8398c8d",
   "metadata": {},
   "source": [
    "### June 2024\n",
    "<b> 1. Power Query vs Pandas\n",
    "<p>\n",
    "I have been using Power Query for 3 months now. Power Query is a data manipulation tool by Microsoft, something like an enhanced Microsoft Excel.\n",
    "You can import sheets from a range of sources, and with a very high degree of visibility, merge these tables, add new columns, filter by criteria, replace values and much more. It is low-code which makes it very practical. With simple buttons like 'add column from examples' or 'change type', you can achieve most of what you need without ever looking at the code behind it.\n",
    "\n",
    "Its main disadvantage is that it is not very robust to changes in column name, for example. Queries can break easily due to changes in the source location, column names, number of columns. \n",
    "\n",
    "It is especially practical when combined with Power BI, a reporting service built by Microsoft, which allows for simple creation of many types of charts and graphics. More on that later.\n",
    "\n",
    "In comparison, Pandas is a data analysis library from Python which also allows many types of manipulation including merging tables, adding columns, filtering, replacing values, removing errors. What's more, you can combine this with simple python scripts like 'for' loops, which is not easily possible in Power Query, which does not easily add this kind of custom row. \n",
    "\n",
    "At the same time, you have to be much more code literate to use it, error messages are very wordy, long, and comparatively harder to decode. It is even less robust to changes in column name or location. On the plus side, it is easier to code it to be independent of variables. Power Query by default will make many references to column names, which makes it more likely to break. Pandas typically uses general examples, such as \"Use first row as headers\", or adding columns based on a condition.\n",
    "\n",
    "Another disadvantage is that it is harder to visualise what is happening, functions like .head() let you see the first few rows, or .info() will list the columns, number of entries and the data types (admittedly this is simpler than the Power Query equivalent). Adding transformations has to be done by memory, or by looking up a list of functions and methods. Power Query helpfully displays these by default, for Pandas having this information easily at hand would depend on your set up. \n",
    "\n",
    "Conclusion: \n",
    "Power Query has been great to work with so far. But for a more broad appeal, it is worth learning Pandas when possible. For Pandas, my recommendation would be to install Anaconda, use Jupyter Notebooks and follow some pandas tutorials. Later, you can learn to use Github, uploading your files for version control and sharing. But frankly, I think Power Query is best for most office-based circumstances and should be preferred, since it is more accessible and easier to onboard newcomers into. \n",
    "</p>"
   ]
  }
 ],
 "metadata": {
  "kernelspec": {
   "display_name": "Python 3 (ipykernel)",
   "language": "python",
   "name": "python3"
  },
  "language_info": {
   "codemirror_mode": {
    "name": "ipython",
    "version": 3
   },
   "file_extension": ".py",
   "mimetype": "text/x-python",
   "name": "python",
   "nbconvert_exporter": "python",
   "pygments_lexer": "ipython3",
   "version": "3.11.7"
  }
 },
 "nbformat": 4,
 "nbformat_minor": 5
}
